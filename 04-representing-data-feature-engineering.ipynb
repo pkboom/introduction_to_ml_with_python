{
 "cells": [],
 "metadata": {
  "kernelspec": {
   "display_name": "sklearn-env",
   "language": "python",
   "name": "python3"
  },
  "language_info": {
   "codemirror_mode": {
    "name": "ipython",
    "version": 3
   },
   "file_extension": ".py",
   "mimetype": "text/x-python",
   "name": "python",
   "nbconvert_exporter": "python",
   "pygments_lexer": "ipython3",
   "version": "3.10.8 (main, Nov 24 2022, 08:08:27) [Clang 14.0.6 ]"
  },
  "orig_nbformat": 4,
  "vscode": {
   "interpreter": {
    "hash": "afca08f0a16e92f17a1108b8c4a14bb3a160c0aa49cedbc8bb2f1eb603816dc1"
   }
  }
 },
 "nbformat": 4,
 "nbformat_minor": 2
}
