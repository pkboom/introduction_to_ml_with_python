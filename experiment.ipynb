{
 "cells": [
  {
   "cell_type": "code",
   "execution_count": 38,
   "metadata": {},
   "outputs": [
    {
     "name": "stdout",
     "output_type": "stream",
     "text": [
      "The lab_black extension is already loaded. To reload it, use:\n",
      "  %reload_ext lab_black\n"
     ]
    }
   ],
   "source": [
    "%load_ext lab_black"
   ]
  },
  {
   "cell_type": "code",
   "execution_count": 39,
   "metadata": {},
   "outputs": [],
   "source": [
    "import warnings\n",
    "\n",
    "warnings.filterwarnings(\"ignore\")"
   ]
  },
  {
   "cell_type": "code",
   "execution_count": 40,
   "metadata": {},
   "outputs": [],
   "source": [
    "from sklearn import datasets\n",
    "\n",
    "iris = datasets.load_iris()\n",
    "X = iris.data\n",
    "y = iris.target"
   ]
  },
  {
   "cell_type": "code",
   "execution_count": 41,
   "metadata": {},
   "outputs": [],
   "source": [
    "from sklearn.model_selection import KFold\n",
    "\n",
    "kfold = KFold(n_splits=2)"
   ]
  },
  {
   "cell_type": "code",
   "execution_count": 42,
   "metadata": {},
   "outputs": [
    {
     "name": "stdout",
     "output_type": "stream",
     "text": [
      "Cross-validation scores:\n",
      "[0.29333333 0.33333333]\n"
     ]
    }
   ],
   "source": [
    "from sklearn.model_selection import cross_val_score\n",
    "from sklearn.linear_model import LogisticRegression\n",
    "\n",
    "logreg = LogisticRegression()\n",
    "print(\n",
    "    \"Cross-validation scores:\\n{}\".format(\n",
    "        cross_val_score(logreg, iris.data, iris.target, cv=kfold)\n",
    "    )\n",
    ")"
   ]
  },
  {
   "cell_type": "code",
   "execution_count": 150,
   "metadata": {},
   "outputs": [
    {
     "name": "stdout",
     "output_type": "stream",
     "text": [
      "TRAIN: [0 1 3 5 7 8] TEST: [2 4 6 9]\n",
      "TRAIN: [2 4 5 6 7 8 9] TEST: [0 1 3]\n",
      "TRAIN: [0 1 2 3 4 6 9] TEST: [5 7 8]\n",
      "\n",
      "TRAIN: [0 1 3 5 7 8] TEST: [2 4 6 9]\n",
      "TRAIN: [2 4 5 6 7 8 9] TEST: [0 1 3]\n",
      "TRAIN: [0 1 2 3 4 6 9] TEST: [5 7 8]\n",
      "TRAIN: [1 2 4 6 7 8] TEST: [0 3 5 9]\n",
      "TRAIN: [0 1 3 5 6 7 9] TEST: [2 4 8]\n",
      "TRAIN: [0 2 3 4 5 8 9] TEST: [1 6 7]\n",
      "TRAIN: [0 1 2 4 6 7] TEST: [3 5 8 9]\n",
      "TRAIN: [2 3 4 5 7 8 9] TEST: [0 1 6]\n",
      "TRAIN: [0 1 3 5 6 8 9] TEST: [2 4 7]\n"
     ]
    }
   ],
   "source": [
    "import pandas as pd\n",
    "from sklearn.model_selection import KFold, RepeatedKFold\n",
    "\n",
    "data = pd.DataFrame(\n",
    "    [\n",
    "        [\"red\", \"strawberry\"],  # color, fruit\n",
    "        [\"red\", \"strawberry\"],\n",
    "        [\"red\", \"strawberry\"],\n",
    "        [\"red\", \"strawberry\"],\n",
    "        [\"red\", \"strawberry\"],\n",
    "        [\"yellow\", \"banana\"],\n",
    "        [\"yellow\", \"banana\"],\n",
    "        [\"yellow\", \"banana\"],\n",
    "        [\"yellow\", \"banana\"],\n",
    "        [\"yellow\", \"banana\"],\n",
    "    ]\n",
    ")\n",
    "\n",
    "X = data[0]\n",
    "\n",
    "# KFold\n",
    "for train_index, test_index in KFold(n_splits=3, shuffle=True, random_state=1).split(X):\n",
    "    print(\"TRAIN:\", train_index, \"TEST:\", test_index)\n",
    "\n",
    "print()\n",
    "# RepeatedKFold\n",
    "for train_index, test_index in RepeatedKFold(\n",
    "    n_splits=3, n_repeats=3, random_state=1\n",
    ").split(X):\n",
    "    print(\"TRAIN:\", train_index, \"TEST:\", test_index)"
   ]
  },
  {
   "cell_type": "code",
   "execution_count": null,
   "metadata": {},
   "outputs": [],
   "source": []
  }
 ],
 "metadata": {
  "kernelspec": {
   "display_name": "titanic",
   "language": "python",
   "name": "python3"
  },
  "language_info": {
   "codemirror_mode": {
    "name": "ipython",
    "version": 3
   },
   "file_extension": ".py",
   "mimetype": "text/x-python",
   "name": "python",
   "nbconvert_exporter": "python",
   "pygments_lexer": "ipython3",
   "version": "3.11.0"
  },
  "orig_nbformat": 4
 },
 "nbformat": 4,
 "nbformat_minor": 2
}
